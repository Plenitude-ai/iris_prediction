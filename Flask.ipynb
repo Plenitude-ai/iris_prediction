{
 "cells": [
  {
   "cell_type": "markdown",
   "metadata": {},
   "source": [
    "# Flask"
   ]
  },
  {
   "cell_type": "code",
   "execution_count": 1,
   "metadata": {},
   "outputs": [
    {
     "name": "stdout",
     "output_type": "stream",
     "text": [
      " * Serving Flask app '__main__' (lazy loading)\n",
      " * Environment: production\n",
      "\u001b[31m   WARNING: This is a development server. Do not use it in a production deployment.\u001b[0m\n",
      "\u001b[2m   Use a production WSGI server instead.\u001b[0m\n",
      " * Debug mode: on\n"
     ]
    },
    {
     "name": "stderr",
     "output_type": "stream",
     "text": [
      " * Running on http://127.0.0.1:5000/ (Press CTRL+C to quit)\n",
      "127.0.0.1 - - [10/Jul/2021 09:11:24] \"GET / HTTP/1.1\" 200 -\n",
      "127.0.0.1 - - [10/Jul/2021 09:11:24] \"GET /favicon.ico HTTP/1.1\" 404 -\n"
     ]
    }
   ],
   "source": [
    "from flask import Flask\n",
    "app = Flask(__name__)\n",
    "\n",
    "@app.route('/')\n",
    "def hello_world():\n",
    "    return 'Hey, we have Flask in a Docker container!'\n",
    "\n",
    "\n",
    "if __name__== '__main__':\n",
    "    app.run(debug=True, use_reloader=False) #, host='0.0.0.0'"
   ]
  },
  {
   "cell_type": "code",
   "execution_count": 2,
   "metadata": {},
   "outputs": [
    {
     "name": "stderr",
     "output_type": "stream",
     "text": [
      "No traceback available to show.\n"
     ]
    }
   ],
   "source": [
    "%tb"
   ]
  },
  {
   "cell_type": "code",
   "execution_count": null,
   "metadata": {},
   "outputs": [],
   "source": []
  },
  {
   "cell_type": "code",
   "execution_count": null,
   "metadata": {},
   "outputs": [],
   "source": []
  },
  {
   "cell_type": "code",
   "execution_count": 21,
   "metadata": {},
   "outputs": [
    {
     "data": {
      "text/plain": [
       "7.3"
      ]
     },
     "execution_count": 21,
     "metadata": {},
     "output_type": "execute_result"
    }
   ],
   "source": [
    "float(\"7.3\")"
   ]
  },
  {
   "cell_type": "code",
   "execution_count": 25,
   "metadata": {},
   "outputs": [
    {
     "name": "stdout",
     "output_type": "stream",
     "text": [
      "[7.3, 2.9, 6.3, 1.8]\n"
     ]
    },
    {
     "data": {
      "text/plain": [
       "list"
      ]
     },
     "execution_count": 25,
     "metadata": {},
     "output_type": "execute_result"
    }
   ],
   "source": [
    "input_ = ['[7.3,', '2.9,', '6.3,', '1.8]']\n",
    "h = \" \".join([x for x in input_])\n",
    "\n",
    "l = h.strip('[]').split(',')\n",
    "l = [float(x) for x in l]\n",
    "# map(float, l)\n",
    "print(l)\n",
    "type(l)"
   ]
  },
  {
   "cell_type": "code",
   "execution_count": 4,
   "metadata": {},
   "outputs": [
    {
     "name": "stdout",
     "output_type": "stream",
     "text": [
      "[09:14:54] WARNING: C:/Users/Administrator/workspace/xgboost-win64_release_1.3.0/src/learner.cc:1061: Starting in XGBoost 1.3.0, the default evaluation metric used with the objective 'multi:softprob' was changed from 'merror' to 'mlogloss'. Explicitly set eval_metric if you'd like to restore the old behavior.\n",
      "\n",
      "\n",
      "\n",
      "\n",
      "virginica\n",
      " * Serving Flask app '__main__' (lazy loading)\n",
      " * Environment: production\n",
      "\u001b[31m   WARNING: This is a development server. Do not use it in a production deployment.\u001b[0m\n",
      "\u001b[2m   Use a production WSGI server instead.\u001b[0m\n",
      " * Debug mode: on\n"
     ]
    },
    {
     "name": "stderr",
     "output_type": "stream",
     "text": [
      " * Running on http://127.0.0.1:5000/ (Press CTRL+C to quit)\n",
      "127.0.0.1 - - [10/Jul/2021 09:14:56] \"GET / HTTP/1.1\" 200 -\n",
      "127.0.0.1 - - [10/Jul/2021 09:15:12] \"GET / HTTP/1.1\" 200 -\n",
      "127.0.0.1 - - [10/Jul/2021 09:15:16] \"GET /index HTTP/1.1\" 200 -\n"
     ]
    }
   ],
   "source": [
    "# IMPORTS\n",
    "import modelling_script\n",
    "from flask import Flask\n",
    "\n",
    "\n",
    "app = Flask(__name__)\n",
    "\n",
    "@app.route('/')\n",
    "def hello_world():\n",
    "    return 'Hey, we have Flask in a Docker container!'\n",
    "\n",
    "@app.route('/index')\n",
    "def hello_index():\n",
    "    return 'Hey, INDEX !'\n",
    "\n",
    "\n",
    "if __name__== '__main__':\n",
    "\n",
    "    # TRAINING MODEL\n",
    "    modelling_script.train_model(model_path=\"model.pkl\")\n",
    "\n",
    "    # GETTING THE ARGUMENTS\n",
    "    arg = [7.3, 2.9, 6.3, 1.8]\n",
    "\n",
    "\n",
    "    # PREDICTING ON OBSERVATION\n",
    "    pred_name = modelling_script.predict_observation(arg, model_path=\"model.pkl\")\n",
    "    print(\"\\n\\n\\n\")\n",
    "    print(pred_name)\n",
    "\n",
    "    app.run(debug=True, use_reloader=False) #, host='0.0.0.0'"
   ]
  }
 ],
 "metadata": {
  "kernelspec": {
   "display_name": "iris_prediction",
   "language": "python",
   "name": "iris_prediction"
  },
  "language_info": {
   "codemirror_mode": {
    "name": "ipython",
    "version": 3
   },
   "file_extension": ".py",
   "mimetype": "text/x-python",
   "name": "python",
   "nbconvert_exporter": "python",
   "pygments_lexer": "ipython3",
   "version": "3.9.0"
  }
 },
 "nbformat": 4,
 "nbformat_minor": 4
}
