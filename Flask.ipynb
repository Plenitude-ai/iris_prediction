{
 "cells": [
  {
   "cell_type": "markdown",
   "metadata": {},
   "source": [
    "# Flask"
   ]
  },
  {
   "cell_type": "markdown",
   "metadata": {},
   "source": [
    "# Imports"
   ]
  },
  {
   "cell_type": "code",
   "execution_count": 1,
   "metadata": {},
   "outputs": [],
   "source": [
    "import requests\n",
    "import random\n",
    "import pickle\n",
    "from flask import Flask, request\n",
    "import numpy as np\n",
    "import pandas as pd"
   ]
  },
  {
   "cell_type": "markdown",
   "metadata": {},
   "source": [
    "# Requests to Server"
   ]
  },
  {
   "cell_type": "markdown",
   "metadata": {},
   "source": [
    "### Args"
   ]
  },
  {
   "cell_type": "code",
   "execution_count": 13,
   "metadata": {},
   "outputs": [],
   "source": [
    "root = \"http://127.0.0.1:5000/\"\n",
    "\n",
    "arg = [7.3, 2.9, 6.3, 1.8]"
   ]
  },
  {
   "cell_type": "code",
   "execution_count": 14,
   "metadata": {},
   "outputs": [],
   "source": [
    "sepal_length = arg[0]  # random.random()\n",
    "sepal_width = arg[1]  # random.random()\n",
    "petal_length = arg[2]  # random.random()\n",
    "petal_width = arg[3]  # random.random()"
   ]
  },
  {
   "cell_type": "code",
   "execution_count": 15,
   "metadata": {},
   "outputs": [
    {
     "name": "stdout",
     "output_type": "stream",
     "text": [
      "virginica\n"
     ]
    },
    {
     "data": {
      "text/plain": [
       "'virginica'"
      ]
     },
     "execution_count": 15,
     "metadata": {},
     "output_type": "execute_result"
    }
   ],
   "source": [
    "res = requests.get(root+'/pred_args?'+\"sepal_length={}&sepal_width={}&petal_length={}&petal_width={}\".format(sepal_length, sepal_width, petal_length, petal_width))\n",
    "\n",
    "res.status_code\n",
    "print(res.text)\n",
    "res.content.decode(\"utf-8\")"
   ]
  },
  {
   "cell_type": "code",
   "execution_count": 16,
   "metadata": {},
   "outputs": [
    {
     "data": {
      "text/plain": [
       "'Hey, we have Flask in a Docker container !'"
      ]
     },
     "execution_count": 16,
     "metadata": {},
     "output_type": "execute_result"
    }
   ],
   "source": [
    "rep = requests.get(root)\n",
    "rep.text"
   ]
  },
  {
   "cell_type": "markdown",
   "metadata": {},
   "source": [
    "### JSON"
   ]
  },
  {
   "cell_type": "code",
   "execution_count": 19,
   "metadata": {},
   "outputs": [],
   "source": [
    "dict_data = {\"sepal_length\" : sepal_length,\n",
    "            \"sepal_width\" : sepal_width,\n",
    "            \"petal_length\" : petal_length,\n",
    "            \"petal_width\" : petal_width}"
   ]
  },
  {
   "cell_type": "code",
   "execution_count": 27,
   "metadata": {},
   "outputs": [
    {
     "name": "stdout",
     "output_type": "stream",
     "text": [
      "200\n",
      "virginica\n"
     ]
    },
    {
     "data": {
      "text/plain": [
       "'virginica'"
      ]
     },
     "execution_count": 27,
     "metadata": {},
     "output_type": "execute_result"
    }
   ],
   "source": [
    "res = requests.get(root+'/pred_json', json=dict_data)\n",
    "\n",
    "print(res.status_code)\n",
    "print(res.text)\n",
    "res.content.decode(\"utf-8\")"
   ]
  },
  {
   "cell_type": "code",
   "execution_count": null,
   "metadata": {},
   "outputs": [],
   "source": []
  },
  {
   "cell_type": "markdown",
   "metadata": {},
   "source": [
    "# Container"
   ]
  },
  {
   "cell_type": "code",
   "execution_count": null,
   "metadata": {},
   "outputs": [],
   "source": []
  },
  {
   "cell_type": "markdown",
   "metadata": {},
   "source": [
    "# Sandbox"
   ]
  },
  {
   "cell_type": "code",
   "execution_count": null,
   "metadata": {},
   "outputs": [],
   "source": [
    "model_path = \"model.pkl\"\n",
    "MODEL = pickle.load(open(model_path, \"rb\"))\n",
    "\n",
    "# with open(model_path, \"rb\") as file:\n",
    "#         MODEL = pickle.load(file)\n",
    "\n",
    "TARGET_NAMES = ['setosa', 'versicolor', 'virginica']\n",
    "\n",
    "sepal_length = random.random()\n",
    "sepal_width = random.random()\n",
    "petal_length = random.random()\n",
    "petal_width = random.random()\n",
    "\n",
    "features = pd.DataFrame([[sepal_length, sepal_width, petal_length, petal_width]], columns=[\"sepal length (cm)\", \"sepal width (cm)\", \"petal length (cm)\", \"petal width (cm)\"])\n",
    "\n",
    "print(sepal_length, sepal_width, petal_length, petal_width)\n",
    "# features = np.array([[sepal_length, sepal_width, petal_length, petal_width]])\n",
    "\n",
    "pred_obs = MODEL.predict(features)\n",
    "pred_name = TARGET_NAMES[int(pred_obs)]\n",
    "pred_name"
   ]
  },
  {
   "cell_type": "code",
   "execution_count": null,
   "metadata": {},
   "outputs": [],
   "source": []
  },
  {
   "cell_type": "code",
   "execution_count": null,
   "metadata": {},
   "outputs": [],
   "source": [
    "res = requests.get(root+'/pred_args?'+\"sepal_length={}&sepal_width={}&petal_length={}&petal_width={}\".format(sepal_length, sepal_width, petal_length, petal_width))\n",
    "\n",
    "res.status_code\n",
    "print(res.text)\n",
    "res.content.decode(\"utf-8\")"
   ]
  }
 ],
 "metadata": {
  "kernelspec": {
   "display_name": "iris_prediction",
   "language": "python",
   "name": "iris_prediction"
  },
  "language_info": {
   "codemirror_mode": {
    "name": "ipython",
    "version": 3
   },
   "file_extension": ".py",
   "mimetype": "text/x-python",
   "name": "python",
   "nbconvert_exporter": "python",
   "pygments_lexer": "ipython3",
   "version": "3.9.0"
  }
 },
 "nbformat": 4,
 "nbformat_minor": 4
}
